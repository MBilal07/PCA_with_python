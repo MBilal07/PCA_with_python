{
 "cells": [
  {
   "cell_type": "code",
   "execution_count": 44,
   "id": "34c30d64",
   "metadata": {},
   "outputs": [],
   "source": [
    "import numpy as np\n",
    "from sklearn import datasets\n",
    "import  matplotlib.pyplot as plt\n",
    "dataset = datasets.fetch_olivetti_faces()"
   ]
  },
  {
   "cell_type": "code",
   "execution_count": 45,
   "id": "b40b74c7",
   "metadata": {},
   "outputs": [
    {
     "data": {
      "text/plain": [
       "<matplotlib.image.AxesImage at 0x127c32ad0>"
      ]
     },
     "execution_count": 45,
     "metadata": {},
     "output_type": "execute_result"
    },
    {
     "data": {
      "text/plain": [
       "<Figure size 640x480 with 0 Axes>"
      ]
     },
     "metadata": {},
     "output_type": "display_data"
    },
    {
     "data": {
      "image/png": "[encoded data removed]",
      "text/plain": [
       "<Figure size 480x480 with 1 Axes>"
      ]
     },
     "metadata": {},
     "output_type": "display_data"
    }
   ],
   "source": [
    "first_face = dataset.data[0].reshape(64,64)\n",
    "plt.gray()\n",
    "plt.matshow(first_face)"
   ]
  },
  {
   "cell_type": "code",
   "execution_count": 52,
   "id": "adb07fd1",
   "metadata": {},
   "outputs": [
    {
     "name": "stdout",
     "output_type": "stream",
     "text": [
      "it means we hav 400 examples and 4096 features\n",
      "So cov matrix should be of 4096 ^ 2\n"
     ]
    }
   ],
   "source": [
    "X_data = dataset.data\n",
    "\n",
    "print(f'it means we hav {X_data.shape[0]} examples and {X_data.shape[1]} features')\n",
    "print(f'So cov matrix should be of {X_data.shape[1]} ^ 2')"
   ]
  },
  {
   "cell_type": "code",
   "execution_count": 61,
   "id": "b8b4ce16",
   "metadata": {},
   "outputs": [
    {
     "name": "stdout",
     "output_type": "stream",
     "text": [
      "The mean is [0.40013435 0.43423545 0.4762809  ... 0.32141536 0.3136469  0.31045464]\n",
      "The standard deviation is [0.18046872 0.18926673 0.19449872 ... 0.18760698 0.18338676 0.1804086 ]\n",
      "The variance is [0.03256896 0.03582189 0.03782975 ... 0.03519638 0.0336307  0.03254726]\n"
     ]
    },
    {
     "data": {
      "text/plain": [
       "(4096, 4096)"
      ]
     },
     "execution_count": 61,
     "metadata": {},
     "output_type": "execute_result"
    }
   ],
   "source": [
    "# first we need to normalize the matrix\n",
    "Xm = np.mean(X_data,axis=0)\n",
    "Xs = np.std(X_data,axis=0)\n",
    "Xv = np.var(X_data,axis=0)\n",
    "print(\"The mean is\",Xm)\n",
    "print(\"The standard deviation is\",Xs)\n",
    "print(\"The variance is\",Xv)\n",
    "\n",
    "Xn = (X_data - Xm) / Xs\n",
    "\n",
    "cov = np.cov(Xn.T)\n",
    "cov.shape"
   ]
  },
  {
   "cell_type": "code",
   "execution_count": 63,
   "id": "a2c19b50",
   "metadata": {},
   "outputs": [
    {
     "name": "stdout",
     "output_type": "stream",
     "text": [
      "Eigne values are [ 1.10361838e+03+0.00000000e+00j  5.06810771e+02+0.00000000e+00j\n",
      "  3.21988946e+02+0.00000000e+00j ...  3.45190928e-16-7.94004154e-17j\n",
      " -4.26872367e-16+0.00000000e+00j  2.72423611e-17+0.00000000e+00j]\n",
      "Eigne vectors are [[ 3.32091335e-03+0.00000000e+00j  2.20901911e-02+0.00000000e+00j\n",
      "   9.66163617e-04+0.00000000e+00j ...  2.95743914e-04+1.58884658e-04j\n",
      "   1.07452920e-03+0.00000000e+00j -3.42780363e-04+0.00000000e+00j]\n",
      " [ 5.16380065e-03+0.00000000e+00j  2.41923109e-02+0.00000000e+00j\n",
      "  -8.03866153e-04+0.00000000e+00j ... -3.54043904e-05+9.24742496e-05j\n",
      "  -3.61122836e-05+0.00000000e+00j  4.71775010e-09+0.00000000e+00j]\n",
      " [ 6.62312169e-03+0.00000000e+00j  2.67989338e-02+0.00000000e+00j\n",
      "  -8.76282830e-04+0.00000000e+00j ...  1.19359724e-04-8.83815790e-05j\n",
      "   1.21469663e-04+0.00000000e+00j -1.21566587e-04+0.00000000e+00j]\n",
      " ...\n",
      " [-1.36456916e-03+0.00000000e+00j -2.24164675e-02+0.00000000e+00j\n",
      "  -8.44198268e-03+0.00000000e+00j ...  7.27801334e-03+5.84171352e-03j\n",
      "   6.76564824e-04+0.00000000e+00j  2.24141341e-03+0.00000000e+00j]\n",
      " [-3.55313142e-03+0.00000000e+00j -2.09123714e-02+0.00000000e+00j\n",
      "  -7.16254604e-03+0.00000000e+00j ...  1.59911735e-02-1.09625975e-03j\n",
      "   6.43227347e-03+0.00000000e+00j -1.18940364e-02+0.00000000e+00j]\n",
      " [-3.43195852e-03+0.00000000e+00j -1.93837384e-02+0.00000000e+00j\n",
      "  -6.04271116e-03+0.00000000e+00j ...  4.62063808e-03+5.25095290e-03j\n",
      "  -5.12040408e-02+0.00000000e+00j -4.00332213e-02+0.00000000e+00j]]\n"
     ]
    }
   ],
   "source": [
    "# now we need to find eigne values and eigen vectors of this cov matrix\n",
    "eig_values, eig_vectors = np.linalg.eig(cov)\n",
    "print(f'Eigne values are {eig_values}')\n",
    "print(f'Eigne vectors are {eig_vectors}')\n",
    "\n"
   ]
  },
  {
   "cell_type": "code",
   "execution_count": 64,
   "id": "e9a6a59d",
   "metadata": {},
   "outputs": [
    {
     "name": "stdout",
     "output_type": "stream",
     "text": [
      "The eigen vectors (principal components) are \n",
      " [[ 3.32091335e-03+0.00000000e+00j  2.20901911e-02+0.00000000e+00j\n",
      "   9.66163617e-04+0.00000000e+00j ...  5.13694301e-04+9.79093587e-06j\n",
      "  -3.35817316e-04-3.37815169e-04j -3.35817316e-04+3.37815169e-04j]\n",
      " [ 5.16380065e-03+0.00000000e+00j  2.41923109e-02+0.00000000e+00j\n",
      "  -8.03866153e-04+0.00000000e+00j ...  2.39049378e-05+4.38254272e-07j\n",
      "  -7.29937191e-05+4.28741167e-05j -7.29937191e-05-4.28741167e-05j]\n",
      " [ 6.62312169e-03+0.00000000e+00j  2.67989338e-02+0.00000000e+00j\n",
      "  -8.76282830e-04+0.00000000e+00j ...  3.93230044e-05+5.30784724e-05j\n",
      "  -7.77389628e-05-3.23817438e-05j -7.77389628e-05+3.23817438e-05j]\n",
      " ...\n",
      " [-1.36456916e-03+0.00000000e+00j -2.24164675e-02+0.00000000e+00j\n",
      "  -8.44198268e-03+0.00000000e+00j ... -8.21116891e-03+3.48483879e-03j\n",
      "   8.72634974e-03-3.99297924e-04j  8.72634974e-03+3.99297924e-04j]\n",
      " [-3.55313142e-03+0.00000000e+00j -2.09123714e-02+0.00000000e+00j\n",
      "  -7.16254604e-03+0.00000000e+00j ... -1.25876132e-02-4.36656792e-03j\n",
      "   1.85412202e-03+4.46128612e-03j  1.85412202e-03-4.46128612e-03j]\n",
      " [-3.43195852e-03+0.00000000e+00j -1.93837384e-02+0.00000000e+00j\n",
      "  -6.04271116e-03+0.00000000e+00j ... -6.42406882e-03+5.97454767e-03j\n",
      "  -1.12174526e-02+1.50357255e-02j -1.12174526e-02-1.50357255e-02j]]\n",
      "The variance captured along each PC: [1.10085933e+03 5.05543744e+02 3.21183974e+02 ... 6.78068324e-30\n",
      " 6.60451237e-30 6.60451237e-30]\n",
      "The fraction of variance captured along each PC:  [0.26876448 0.39218825 0.47060231 ... 1.         1.         1.        ]\n"
     ]
    }
   ],
   "source": [
    "pc = eig_vectors\n",
    "\n",
    "#finding varicance aloong each column\n",
    "cvar =  np.var(np.dot(Xn,pc),axis=0)\n",
    "\n",
    "# sorting variance columns max variance will be on index 0\n",
    "idx = np.argsort(-cvar)\n",
    "# sorting cvar matrix with largest cov at start\n",
    "cvar = cvar[idx]\n",
    "\n",
    "# sortin pc array so that eigen vector with max variance will be at column 0\n",
    "pc = pc[:,idx]\n",
    "\n",
    "print(\"The eigen vectors (principal components) are \\n\",pc)\n",
    "print(\"The variance captured along each PC:\",cvar)\n",
    "print(\"The fraction of variance captured along each PC: \",np.cumsum(cvar)/np.sum(cvar))"
   ]
  },
  {
   "cell_type": "code",
   "execution_count": 73,
   "id": "1a002c83",
   "metadata": {},
   "outputs": [
    {
     "data": {
      "text/plain": [
       "0.9363916255583746"
      ]
     },
     "execution_count": 73,
     "metadata": {},
     "output_type": "execute_result"
    }
   ],
   "source": [
    "variance_captured = np.cumsum(cvar)/np.sum(cvar)\n",
    "variance_captured[100]\n",
    "# it means it is the percentage of variance we captured in first hundered Eigne vectors"
   ]
  },
  {
   "cell_type": "code",
   "execution_count": 76,
   "id": "7d5192f8",
   "metadata": {},
   "outputs": [
    {
     "name": "stdout",
     "output_type": "stream",
     "text": [
      "idx is (4096,)\n",
      "Data after transformation\n",
      " [[ 45.26837974+0.j   2.17394644+0.j -21.81839729+0.j ...  -1.6772157 +0.j\n",
      "    3.44096903+0.j   0.92413365+0.j]\n",
      " [ 11.86003686+0.j  41.95491045+0.j   3.10510875+0.j ...  -1.25463451+0.j\n",
      "   -0.96622027+0.j   1.96832257+0.j]\n",
      " [ 39.27399127+0.j   7.27784437+0.j -11.94020124+0.j ...  -0.37943699+0.j\n",
      "    3.94507808+0.j   0.47291328+0.j]\n",
      " ...\n",
      " [-10.81211064+0.j   9.58496726+0.j  24.19494596+0.j ...  -0.46468439+0.j\n",
      "   -1.30510173+0.j   3.11465745+0.j]\n",
      " [ 36.93931703+0.j -56.96338996+0.j  -5.20919631+0.j ...  -0.13550698+0.j\n",
      "    2.58738604+0.j   0.07955185+0.j]\n",
      " [  8.68293627+0.j -15.29022361+0.j   9.25133724+0.j ...   1.12977249+0.j\n",
      "   -3.27722159+0.j  -1.29323218+0.j]]\n",
      "Standard deviation after transformation [33.17920028 22.48429994 17.92160634 13.85802066 11.53104311 11.26977228\n",
      "  9.88138795  9.21182559  8.72341921  8.21149671  7.92709502  7.44627683\n",
      "  7.10821772  6.84507078  6.69518274  6.264771    5.95906976  5.70070466\n",
      "  5.57685427  5.42762772  5.25321987  5.16309195  4.93347636  4.76266282\n",
      "  4.69076125  4.58414119  4.50933374  4.40135728  4.15264907  4.10532021\n",
      "  4.01801002  3.89439106  3.86401712  3.70268691  3.66899854  3.6134861\n",
      "  3.55240047  3.4512203   3.41580685  3.31128223  3.27022483  3.21426767\n",
      "  3.17958245  3.16931344  3.08958823  3.07723164  3.0198826   3.00425273\n",
      "  2.91756751  2.90428223  2.88079534  2.82706767  2.78941786  2.75312264\n",
      "  2.71409283  2.66630515  2.62077238  2.59948381  2.55266378  2.53642243\n",
      "  2.52707049  2.48512508  2.46456566  2.4352675   2.41093196  2.38975816\n",
      "  2.38006011  2.33304574  2.32476242  2.29588286  2.27780098  2.27292728\n",
      "  2.22881263  2.22028834  2.17773215  2.16989452  2.16137015  2.1150636\n",
      "  2.09599326  2.08749077  2.07676085  2.0678351   2.04164503  2.00412142\n",
      "  1.99239503  1.97255883  1.96498815  1.93125077  1.92687191  1.92129691\n",
      "  1.90642152  1.87736062  1.8669335   1.8525676   1.84524218  1.82704561\n",
      "  1.8206386   1.79185737  1.77600622  1.76349837]\n",
      "Variance after transformation [1100.85933134  505.54374383  321.1839738   192.04473652  132.96495521\n",
      "  127.00776736   97.64182775   84.85773078   76.09804264   67.42867819\n",
      "   62.83883539   55.44703869   50.52675922   46.85499404   44.82547192\n",
      "   39.24735569   35.51051245   32.49803366   31.1013035    29.45914268\n",
      "   27.596319     26.65751853   24.33918903   22.68295711   22.00324107\n",
      "   21.01435049   20.33409075   19.37194586   17.24449427   16.85365404\n",
      "   16.14440452   15.16628169   14.93062833   13.70989033   13.46155032\n",
      "   13.05728177   12.61954907   11.91092153   11.66773646   10.96459002\n",
      "   10.69437042   10.33151663   10.10974454   10.04454769    9.54555541\n",
      "    9.46935457    9.11969091    9.02553446    8.51220017    8.4348553\n",
      "    8.29898182    7.99231163    7.78085201    7.57968425    7.36629987\n",
      "    7.10918316    6.86844788    6.7573161     6.51609238    6.43343876\n",
      "    6.38608527    6.17584665    6.07408391    5.93052779    5.81259291\n",
      "    5.71094406    5.66468613    5.44310242    5.4045203     5.27107812\n",
      "    5.18837732    5.16619844    4.96760575    4.9296803     4.7425173\n",
      "    4.70844223    4.67152094    4.47349401    4.39318775    4.3576177\n",
      "    4.31293561    4.27594199    4.16831441    4.01650265    3.96963797\n",
      "    3.89098835    3.86117844    3.72972954    3.71283534    3.69138183\n",
      "    3.63444303    3.52448291    3.48544068    3.43200672    3.40491869\n",
      "    3.33809567    3.3147249     3.21075284    3.1541981     3.10992651]\n",
      "Fraction of variance captured along the projections:  [0.26876449 0.12342377 0.07841406 0.04688592 0.03246215 0.03100776\n",
      " 0.02383834 0.02071722 0.01857862 0.01646208 0.01534151 0.01353687\n",
      " 0.01233563 0.01143921 0.01094372 0.00958187 0.00866956 0.00793409\n",
      " 0.00759309 0.00719217 0.00673738 0.00650818 0.00594218 0.00553783\n",
      " 0.00537189 0.00513046 0.00496438 0.00472948 0.00421008 0.00411466\n",
      " 0.00394151 0.00370271 0.00364517 0.00334714 0.00328651 0.00318781\n",
      " 0.00308094 0.00290794 0.00284857 0.0026769  0.00261093 0.00252234\n",
      " 0.0024682  0.00245228 0.00233046 0.00231185 0.00222649 0.0022035\n",
      " 0.00207817 0.00205929 0.00202612 0.00195125 0.00189962 0.00185051\n",
      " 0.00179841 0.00173564 0.00167687 0.00164974 0.00159084 0.00157066\n",
      " 0.0015591  0.00150778 0.00148293 0.00144788 0.00141909 0.00139427\n",
      " 0.00138298 0.00132888 0.00131946 0.00128688 0.00126669 0.00126128\n",
      " 0.00121279 0.00120354 0.00115784 0.00114952 0.00114051 0.00109216\n",
      " 0.00107256 0.00106387 0.00105296 0.00104393 0.00101765 0.00098059\n",
      " 0.00096915 0.00094995 0.00094267 0.00091058 0.00090645 0.00090122\n",
      " 0.00088732 0.00086047 0.00085094 0.00083789 0.00083128 0.00081496\n",
      " 0.00080926 0.00078388 0.00077007 0.00075926]\n"
     ]
    }
   ],
   "source": [
    "k = 100\n",
    "W = pc[:,0:k] #selecting upto dr principal components only\n",
    "Z = np.dot(Xn,W)\n",
    "print(\"idx is\", idx.shape)\n",
    "print(\"Data after transformation\\n\",Z)\n",
    "print(\"Standard deviation after transformation\",np.std(Z,axis=0))\n",
    "print(\"Variance after transformation\",np.var(Z,axis=0))\n",
    "print(\"Fraction of variance captured along the projections: \",np.var(Z,axis=0)/np.sum(np.var(Xn,axis=0)))"
   ]
  },
  {
   "cell_type": "code",
   "execution_count": 79,
   "id": "e38d2287",
   "metadata": {},
   "outputs": [
    {
     "data": {
      "text/plain": [
       "(4096, 100)"
      ]
     },
     "execution_count": 79,
     "metadata": {},
     "output_type": "execute_result"
    }
   ],
   "source": [
    "# Now find inversse of PCA\n",
    "\n",
    "iW = W.T\n",
    "Xr = np.dot(Z,iW)\n",
    "\n",
    "W.shape"
   ]
  },
  {
   "cell_type": "code",
   "execution_count": 84,
   "id": "08bbbafa",
   "metadata": {},
   "outputs": [
    {
     "name": "stderr",
     "output_type": "stream",
     "text": [
      "/var/folders/n2/wd0grqzs6xg33_kyn5kgv96w0000gn/T/ipykernel_2351/651152173.py:1: ComplexWarning: Casting complex values to real discards the imaginary part\n",
      "  first_face = Xr[0].reshape(64,64).astype(np.float64)\n"
     ]
    },
    {
     "data": {
      "text/plain": [
       "<matplotlib.image.AxesImage at 0x17df63f70>"
      ]
     },
     "execution_count": 84,
     "metadata": {},
     "output_type": "execute_result"
    },
    {
     "data": {
      "image/png": "[encoded data removed]",
      "text/plain": [
       "<Figure size 480x480 with 1 Axes>"
      ]
     },
     "metadata": {},
     "output_type": "display_data"
    }
   ],
   "source": [
    "first_face = Xr[0].reshape(64,64).astype(np.float64)\n",
    "\n",
    "plt.matshow(first_face)"
   ]
  },
  {
   "cell_type": "code",
   "execution_count": 88,
   "id": "3bfb510a",
   "metadata": {},
   "outputs": [
    {
     "data": {
      "text/plain": [
       "(400, 100)"
      ]
     },
     "execution_count": 88,
     "metadata": {},
     "output_type": "execute_result"
    }
   ],
   "source": [
    "Z.shape"
   ]
  },
  {
   "cell_type": "markdown",
   "id": "f64dc029",
   "metadata": {},
   "source": [
    "<b>Now we can see that we have captured about 93% of face info in just 100 features from total 4096 features<b>"
   ]
  },
  {
   "cell_type": "code",
   "execution_count": null,
   "id": "57ae3407",
   "metadata": {},
   "outputs": [],
   "source": []
  }
 ],
 "metadata": {
  "kernelspec": {
   "display_name": "Python 3 (ipykernel)",
   "language": "python",
   "name": "python3"
  },
  "language_info": {
   "codemirror_mode": {
    "name": "ipython",
    "version": 3
   },
   "file_extension": ".py",
   "mimetype": "text/x-python",
   "name": "python",
   "nbconvert_exporter": "python",
   "pygments_lexer": "ipython3",
   "version": "3.10.9"
  }
 },
 "nbformat": 4,
 "nbformat_minor": 5
}
